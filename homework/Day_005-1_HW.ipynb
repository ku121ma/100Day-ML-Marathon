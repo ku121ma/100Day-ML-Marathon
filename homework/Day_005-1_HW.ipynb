{
 "cells": [
  {
   "cell_type": "markdown",
   "metadata": {},
   "source": [
    "# [作業目標]\n",
    "- 利用範例的創建方式, 創建一組資料, 並練習如何取出最大值"
   ]
  },
  {
   "cell_type": "markdown",
   "metadata": {},
   "source": [
    "# [作業重點]\n",
    "- 練習創立 DataFrame (In[2])\n",
    "- 如何取出口數最多的國家 (In[3], Out[3])"
   ]
  },
  {
   "cell_type": "markdown",
   "metadata": {},
   "source": [
    "## 練習時間\n",
    "在小量的資料上，我們用眼睛就可以看得出來程式碼是否有跑出我們理想中的結果\n",
    "\n",
    "請嘗試想像一個你需要的資料結構 (裡面的值可以是隨機的)，然後用上述的方法把它變成 pandas DataFrame\n",
    "\n",
    "#### Ex: 想像一個 dataframe 有兩個欄位，一個是國家，一個是人口，求人口數最多的國家\n",
    "\n",
    "### Hints: [隨機產生數值](https://blog.csdn.net/christianashannon/article/details/78867204)"
   ]
  },
  {
   "cell_type": "code",
   "execution_count": 3,
   "metadata": {},
   "outputs": [],
   "source": [
    "import pandas as pd\n",
    "import numpy as np"
   ]
  },
  {
   "cell_type": "code",
   "execution_count": 59,
   "metadata": {},
   "outputs": [
    {
     "name": "stdout",
     "output_type": "stream",
     "text": [
      "              國家       人口\n",
      "0         Taiwan  2421189\n",
      "1  United States  2317199\n",
      "2       Thailand  2503542\n",
      "3         Maxico  3246757\n",
      "人口數最多的國家:United States\n"
     ]
    }
   ],
   "source": [
    "nations = ['Taiwan', 'United States', 'Thailand', 'Maxico', ]\n",
    "populations= np.random.randint(700000, 8000000, len(nations)).tolist()\n",
    "list_labels = ['國家', '人口']\n",
    "list_cols = [nations, populations]\n",
    "\n",
    "#zip() return a list of tuples, such as [('國家', ['Taiwan', 'United States', 'Thailand', 'Maxico']), ('人口', [6646247, 1503195, 5092955, 5831132])]\n",
    "zipped = list(zip(list_labels, list_cols))\n",
    "#transfer list of tuples to dict\n",
    "df = pd.DataFrame(dict(zipped))\n",
    "print(df)\n",
    "print('人口數最多的國家:'+ df.max(axis=0)['國家'])"
   ]
  }
 ],
 "metadata": {
  "kernelspec": {
   "display_name": "Python 3",
   "language": "python",
   "name": "python3"
  },
  "language_info": {
   "codemirror_mode": {
    "name": "ipython",
    "version": 3
   },
   "file_extension": ".py",
   "mimetype": "text/x-python",
   "name": "python",
   "nbconvert_exporter": "python",
   "pygments_lexer": "ipython3",
   "version": "3.7.0"
  }
 },
 "nbformat": 4,
 "nbformat_minor": 2
}
